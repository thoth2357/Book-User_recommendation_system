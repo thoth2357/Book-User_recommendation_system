{
 "cells": [
  {
   "cell_type": "code",
   "execution_count": 4,
   "metadata": {},
   "outputs": [
    {
     "name": "stdout",
     "output_type": "stream",
     "text": [
      "got here2\n",
      "Loading Book-Ratings.csv\n",
      "Done loading Book-Ratings.csv\n",
      "Loading Books-encoded.csv\n",
      "Done loading Books-encoded.csv\n",
      "----->Loading Results\n",
      "\n",
      "the 5 most similar books to 0739307312 using manhattan similarity are [('1556617097', 276651), ('0553104829', 276383), ('0760701423', 276254), ('0879461896', 276192), ('1555171559', 275784)]\n",
      "Invalid Input...Try Again\n",
      "Invalid Input...Try Again\n",
      "Thanks for using the program\n"
     ]
    },
    {
     "ename": "",
     "evalue": "",
     "output_type": "error",
     "traceback": [
      "\u001b[1;31mCanceled future for execute_request message before replies were done"
     ]
    },
    {
     "ename": "",
     "evalue": "",
     "output_type": "error",
     "traceback": [
      "\u001b[1;31mThe Kernel crashed while executing code in the the current cell or a previous cell. Please review the code in the cell(s) to identify a possible cause of the failure. Click <a href='https://aka.ms/vscodeJupyterKernelCrash'>here</a> for more info. View Jupyter <a href='command:jupyter.viewOutput'>log</a> for further details."
     ]
    }
   ],
   "source": [
    "import load_dataset_module as ld\n",
    "import similarity_module as sm\n",
    "\n",
    "def main():\n",
    "    metric_calls = {'euclidean': sm.euclidean_similarity, 'cosine': sm.cosine_similarity, 'pearson': sm.pearson_similarity, 'jaccard': sm.jaccard_similarity, 'manhattan': sm.manhattan_similarity}\n",
    "    try:\n",
    "        check = input('do you want to check n similarity for books or users.Enter True or False:\\t')\n",
    "        metric = str(input('Enter the metric to use for the similarities from the following\\n[euclidean, cosine,pearson,jaccard,manhattan]\\t'))\n",
    "        if check.lower() == 'false':\n",
    "            print('got here1')\n",
    "            purpose = input('Do you want to show the similarity between Books or Users.\\nEnter B for Books, U for Users or Q to quit the program\\t')\n",
    "            if purpose.lower() == 'b':\n",
    "                user_preferences_data = ld.user_preferences()\n",
    "                book_id1 = str(input('Enter the book isbn to compare\\t'))\n",
    "                book_id2 = str(input('Enter the second book isbn to compare\\t'))\n",
    "                book_sim = metric_calls[metric](user_preferences_data, book_id1, book_id2, 'book')\n",
    "                print('----->Loading Results\\n')\n",
    "                print('the Book Similarity between Book {} and {} using {} similarity is {}'.format(book_id1, book_id2, metric, book_sim))\n",
    "            elif purpose.lower() == 'u':\n",
    "                user_preferences_data = ld.user_preferences()\n",
    "                user_id1 = str(input('Enter the user id to compare\\t'))\n",
    "                user_id2 = str(input('Enter the second user id to compare\\t'))\n",
    "                user_sim = metric_calls[metric](user_preferences_data, user_id1, user_id2, 'user')\n",
    "                print('----->Loading Results\\n')\n",
    "                print('the User Similarity between User {} and {} using {} similarity is {}'.format(user_id1, user_id2, metric, user_sim))\n",
    "            else:\n",
    "                raise Exception('Invalid Input...Try Again')\n",
    "        elif check.lower() == 'true':\n",
    "            print('got here2')\n",
    "            user_purpose = input('Do you want to show the similarity between Books or Users.\\nEnter B for Books, U for Users or Q to quit the program\\t')\n",
    "            if user_purpose.lower() == 'b':\n",
    "                user_preferences_data = ld.user_preferences()\n",
    "                book_id = str(input('Enter the book isbn to compare\\t'))\n",
    "                n = int(input('Enter the number of similar books to show\\t'))\n",
    "                book_sim = sm.get_n_most_similar_items(user_preferences_data, book_id, n, 'book', metric_calls[metric])\n",
    "                print('----->Loading Results\\n')\n",
    "                print('the {} most similar books to {} using {} similarity are {}'.format(n, book_id, metric, book_sim))\n",
    "            elif user_purpose.lower() == 'u':\n",
    "                user_preferences_data = ld.user_preferences()\n",
    "                user_id = str(input('Enter the user id to compare\\t'))\n",
    "                n = int(input('Enter the number of similar users to show\\t'))\n",
    "                user_sim = sm.get_n_most_similar_items(user_preferences_data, user_id, n, 'user', metric_calls[metric])\n",
    "                print('the {} most similar users to {} using {} similarity are {}'.format(n, user_id, metric, user_sim))\n",
    "            else:\n",
    "                raise Exception('Invalid Input...Try Again')\n",
    "        else:\n",
    "            raise Exception('Invalid Input...Try Again')\n",
    "    except Exception as err:\n",
    "        print(err)\n",
    "    quit_prog = input('Do you want to quit? Y/N')\n",
    "    if quit_prog.lower() == 'y':\n",
    "        print('Thanks for using the program')\n",
    "        quit()\n",
    "        \n",
    "while True:\n",
    "    try:\n",
    "        main()\n",
    "    except Exception as err:\n",
    "        print('AN error occured',err)\n",
    "        main()\n"
   ]
  }
 ],
 "metadata": {
  "kernelspec": {
   "display_name": "base",
   "language": "python",
   "name": "python3"
  },
  "language_info": {
   "codemirror_mode": {
    "name": "ipython",
    "version": 3
   },
   "file_extension": ".py",
   "mimetype": "text/x-python",
   "name": "python",
   "nbconvert_exporter": "python",
   "pygments_lexer": "ipython3",
   "version": "3.9.16"
  },
  "orig_nbformat": 4
 },
 "nbformat": 4,
 "nbformat_minor": 2
}
